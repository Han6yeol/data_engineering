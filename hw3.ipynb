{
 "cells": [
  {
   "cell_type": "markdown",
   "id": "e03eaab2",
   "metadata": {},
   "source": [
    "# 과제 3: Carly's Clippers"
   ]
  },
  {
   "cell_type": "code",
   "execution_count": 1,
   "id": "e5e4a182",
   "metadata": {},
   "outputs": [],
   "source": [
    "import numpy as np"
   ]
  },
  {
   "cell_type": "code",
   "execution_count": 2,
   "id": "63612ace",
   "metadata": {},
   "outputs": [],
   "source": [
    "hairstyles = [\"bouffant\", \"pixie\", \"dreadlocks\", \"crew\", \"bowl\", \"bob\", \"mohawk\", \"flattop\"]\n",
    "prices = [30, 25, 40, 20, 20, 35, 50, 35]\n",
    "last_week = [2, 3, 5, 8, 4, 4, 6, 2]"
   ]
  },
  {
   "cell_type": "markdown",
   "id": "4ac04d6b",
   "metadata": {},
   "source": [
    "## Prices and Cuts:"
   ]
  },
  {
   "cell_type": "code",
   "execution_count": 3,
   "id": "1e8d40cb",
   "metadata": {},
   "outputs": [
    {
     "name": "stdout",
     "output_type": "stream",
     "text": [
      "Average price is  31.875\n"
     ]
    }
   ],
   "source": [
    "total_price = 0\n",
    "\n",
    "for price in prices:\n",
    "    total_price+=price\n",
    "\n",
    "average_price = total_price/len(prices)\n",
    "print(\"Average price is \", average_price)"
   ]
  },
  {
   "cell_type": "code",
   "execution_count": 4,
   "id": "93c54154",
   "metadata": {},
   "outputs": [
    {
     "name": "stdout",
     "output_type": "stream",
     "text": [
      "[25. 20. 35. 15. 15. 30. 45. 30.]\n"
     ]
    }
   ],
   "source": [
    "new_prices = np.zeros(len(prices))\n",
    "\n",
    "for i in range(len(prices)):\n",
    "    new_prices[i] = prices[i] - 5\n",
    "    \n",
    "print(new_prices)"
   ]
  },
  {
   "cell_type": "markdown",
   "id": "217abe7b",
   "metadata": {},
   "source": [
    "## Revenue:"
   ]
  },
  {
   "cell_type": "code",
   "execution_count": 5,
   "id": "b959ad93",
   "metadata": {},
   "outputs": [
    {
     "name": "stdout",
     "output_type": "stream",
     "text": [
      "1085\n"
     ]
    }
   ],
   "source": [
    "total_revenue = 0\n",
    "\n",
    "for i in range(len(hairstyles)):\n",
    "    total_revenue += prices[i]*last_week[i]\n",
    "    \n",
    "print(total_revenue)"
   ]
  },
  {
   "cell_type": "code",
   "execution_count": 6,
   "id": "9fe089f6",
   "metadata": {},
   "outputs": [
    {
     "name": "stdout",
     "output_type": "stream",
     "text": [
      "Average daily revenue is  155.0\n"
     ]
    }
   ],
   "source": [
    "average_daily_revenue = total_revenue/7\n",
    "print(\"Average daily revenue is \", average_daily_revenue)"
   ]
  },
  {
   "cell_type": "code",
   "execution_count": 7,
   "id": "c01d96cc",
   "metadata": {},
   "outputs": [
    {
     "name": "stdout",
     "output_type": "stream",
     "text": [
      "['bouffant' 'pixie' 'crew' 'bowl']\n"
     ]
    }
   ],
   "source": [
    "cuts_under_30 = np.array([hairstyles[i] for i in range(len(hairstyles)) if prices[i]<=30 ])\n",
    "print(cuts_under_30)"
   ]
  },
  {
   "cell_type": "code",
   "execution_count": null,
   "id": "d0b3a463",
   "metadata": {},
   "outputs": [],
   "source": []
  }
 ],
 "metadata": {
  "kernelspec": {
   "display_name": "Python 3 (ipykernel)",
   "language": "python",
   "name": "python3"
  },
  "language_info": {
   "codemirror_mode": {
    "name": "ipython",
    "version": 3
   },
   "file_extension": ".py",
   "mimetype": "text/x-python",
   "name": "python",
   "nbconvert_exporter": "python",
   "pygments_lexer": "ipython3",
   "version": "3.9.12"
  }
 },
 "nbformat": 4,
 "nbformat_minor": 5
}
