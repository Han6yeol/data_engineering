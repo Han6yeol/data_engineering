{
 "cells": [
  {
   "cell_type": "code",
   "execution_count": 1,
   "id": "74ed46e1-4baf-4d98-b319-7b099f0a2548",
   "metadata": {},
   "outputs": [],
   "source": [
    "lovely_loveseat_description = \"Lovely Loveseat. Tufted polyester blend on wood. 32 inches high x 40 inches wide x 30 inches deep. Red or white.\""
   ]
  },
  {
   "cell_type": "code",
   "execution_count": 2,
   "id": "d29a6c89-da75-4403-834a-ebaef51c1042",
   "metadata": {},
   "outputs": [],
   "source": [
    "lovely_loveseat_price = 254.00"
   ]
  },
  {
   "cell_type": "code",
   "execution_count": 3,
   "id": "c29104db-dd4b-494a-b32f-efb0f8b4c9a0",
   "metadata": {},
   "outputs": [],
   "source": [
    "stylish_settee_description = \"Stylish Settee. Faux leather on birch. 29.50 inches high x 54.75 inches wide x 28 inches deep. Black.\""
   ]
  },
  {
   "cell_type": "code",
   "execution_count": 4,
   "id": "f7e20ce4-b7c7-4bd4-8143-a45930da8322",
   "metadata": {},
   "outputs": [],
   "source": [
    "stylish_settee_price = 180.50"
   ]
  },
  {
   "cell_type": "code",
   "execution_count": 5,
   "id": "764106e0-60a7-4179-ba7b-522c1b887c7d",
   "metadata": {},
   "outputs": [],
   "source": [
    "luxurious_lamp_description = \"Luxurious Lamp. Glass and iron. 36 inches tall. Brown with cream shade.\""
   ]
  },
  {
   "cell_type": "code",
   "execution_count": 6,
   "id": "d85ff62d-4eb1-4273-a0b7-9a123521b8c2",
   "metadata": {},
   "outputs": [],
   "source": [
    "luxurious_lamp_price = 52.15"
   ]
  },
  {
   "cell_type": "code",
   "execution_count": 7,
   "id": "0bf0ee14-06fa-4731-9f94-f5f627f2bf36",
   "metadata": {},
   "outputs": [],
   "source": [
    "sales_tax = 0.088"
   ]
  },
  {
   "cell_type": "code",
   "execution_count": 8,
   "id": "bc2713d7-fd99-49a8-8e46-463be8cab026",
   "metadata": {},
   "outputs": [],
   "source": [
    "customer_one_total = 0"
   ]
  },
  {
   "cell_type": "code",
   "execution_count": 9,
   "id": "b577c2be-8174-45ce-ab75-eaac338c7727",
   "metadata": {},
   "outputs": [],
   "source": [
    "customer_one_itemization = \"\""
   ]
  },
  {
   "cell_type": "code",
   "execution_count": 10,
   "id": "6c448426-97a2-44bf-9a5f-bfc1bb70b461",
   "metadata": {},
   "outputs": [],
   "source": [
    "customer_one_total += lovely_loveseat_price"
   ]
  },
  {
   "cell_type": "code",
   "execution_count": 11,
   "id": "7be05141-33d1-4927-835d-26a7013b0a5c",
   "metadata": {},
   "outputs": [],
   "source": [
    "customer_one_itemization += lovely_loveseat_description"
   ]
  },
  {
   "cell_type": "code",
   "execution_count": 12,
   "id": "8deca4df-ddbf-4ed5-aac3-79c9dce43f74",
   "metadata": {},
   "outputs": [],
   "source": [
    "customer_one_total += luxurious_lamp_price"
   ]
  },
  {
   "cell_type": "code",
   "execution_count": 13,
   "id": "593a49e6-96cf-4e6f-a367-42310c39346e",
   "metadata": {},
   "outputs": [],
   "source": [
    "customer_one_itemization += luxurious_lamp_description"
   ]
  },
  {
   "cell_type": "code",
   "execution_count": 14,
   "id": "9f468912-a6fe-4dea-8938-e4b21b86ef70",
   "metadata": {},
   "outputs": [],
   "source": [
    "customer_one_tax = customer_one_total * sales_tax"
   ]
  },
  {
   "cell_type": "code",
   "execution_count": 15,
   "id": "f52b39ea-a1b8-4522-b3e7-b65a02a96ad2",
   "metadata": {},
   "outputs": [],
   "source": [
    "customer_one_total += customer_one_tax"
   ]
  },
  {
   "cell_type": "code",
   "execution_count": 16,
   "id": "2dcc96de-2b47-4648-baac-13c9d9c30e6b",
   "metadata": {},
   "outputs": [
    {
     "name": "stdout",
     "output_type": "stream",
     "text": [
      "Customer One Items:\n"
     ]
    }
   ],
   "source": [
    "print(\"Customer One Items:\")"
   ]
  },
  {
   "cell_type": "code",
   "execution_count": 17,
   "id": "c590c5da-ee08-4231-86d1-4b281b175332",
   "metadata": {},
   "outputs": [
    {
     "name": "stdout",
     "output_type": "stream",
     "text": [
      "Lovely Loveseat. Tufted polyester blend on wood. 32 inches high x 40 inches wide x 30 inches deep. Red or white.Luxurious Lamp. Glass and iron. 36 inches tall. Brown with cream shade.\n"
     ]
    }
   ],
   "source": [
    "print(customer_one_itemization)"
   ]
  },
  {
   "cell_type": "code",
   "execution_count": 18,
   "id": "8cc69d66-b610-4db9-a8b0-c1e547c546a7",
   "metadata": {},
   "outputs": [
    {
     "name": "stdout",
     "output_type": "stream",
     "text": [
      "Customer One Total:\n"
     ]
    }
   ],
   "source": [
    "print(\"Customer One Total:\")"
   ]
  },
  {
   "cell_type": "code",
   "execution_count": 19,
   "id": "61f35563-1da9-4f9a-bce9-8013b693afdf",
   "metadata": {},
   "outputs": [
    {
     "name": "stdout",
     "output_type": "stream",
     "text": [
      "333.09119999999996\n"
     ]
    }
   ],
   "source": [
    "print(customer_one_total)"
   ]
  },
  {
   "cell_type": "code",
   "execution_count": null,
   "id": "3c76ccd6-8c69-4472-9faf-2f142f98c465",
   "metadata": {},
   "outputs": [],
   "source": []
  }
 ],
 "metadata": {
  "kernelspec": {
   "display_name": "Python 3 (ipykernel)",
   "language": "python",
   "name": "python3"
  },
  "language_info": {
   "codemirror_mode": {
    "name": "ipython",
    "version": 3
   },
   "file_extension": ".py",
   "mimetype": "text/x-python",
   "name": "python",
   "nbconvert_exporter": "python",
   "pygments_lexer": "ipython3",
   "version": "3.9.12"
  }
 },
 "nbformat": 4,
 "nbformat_minor": 5
}
