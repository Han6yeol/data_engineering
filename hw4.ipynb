{
 "cells": [
  {
   "cell_type": "markdown",
   "id": "c3abf603",
   "metadata": {},
   "source": [
    "# 과제 4: 나의 조선시대 이름 찾기"
   ]
  },
  {
   "cell_type": "markdown",
   "id": "06410568",
   "metadata": {},
   "source": [
    "### 성(), 태어난 달()과 태어난 날짜()를 입력받아 나의 조선시대 이름을 출력하는 함수를 작성하시오."
   ]
  },
  {
   "cell_type": "code",
   "execution_count": 1,
   "id": "211ca2ee",
   "metadata": {},
   "outputs": [],
   "source": [
    "import numpy as np\n",
    "\n",
    "# 1. 태어난 달()에 해당되는 이름의 첫번째 글자를 구하기 위한 리스트를 생성하시오.\n",
    "mon_name = ['쌍', '쇠', '복', '돌', '팽', '육', '쌍', '개', '칠', '갑', '삼', '방']\n",
    "\n",
    "# 2. 태어난 날짜()에 해당되는 이름의 두번째 글자를 구하기 위한 리스트를 생성하시오.\n",
    "day_name = ['봉', '구', '욕', '포', '똥', '삼', '식', '석', '놈', '님', '년', '돌', '단', '득', '방', '질',\n",
    "            '장', '걸', '래', '룡', '동', '순', '자', '박', '창', '언', '것', '포', '만', '단', '국']\n"
   ]
  },
  {
   "cell_type": "code",
   "execution_count": 2,
   "id": "16c6dac8",
   "metadata": {},
   "outputs": [
    {
     "name": "stdout",
     "output_type": "stream",
     "text": [
      "최육박\n"
     ]
    }
   ],
   "source": [
    "# 3. 나의 조선시대 이름을 문자열로 반환하는 함수 을 작성하시오.\n",
    "def get_my_chosun_name(family_name, month, day):\n",
    "    return family_name + mon_name[month-1] + day_name[day-1]\n",
    "\n",
    "past_name = get_my_chosun_name('최', 6, 24)\n",
    "\n",
    "# 4. 완성된 함수를 호출하여 나의 조선시대 이름을 출력하시오.\n",
    "print(past_name)"
   ]
  },
  {
   "cell_type": "code",
   "execution_count": null,
   "id": "bf0e85e2",
   "metadata": {},
   "outputs": [],
   "source": []
  }
 ],
 "metadata": {
  "kernelspec": {
   "display_name": "Python 3 (ipykernel)",
   "language": "python",
   "name": "python3"
  },
  "language_info": {
   "codemirror_mode": {
    "name": "ipython",
    "version": 3
   },
   "file_extension": ".py",
   "mimetype": "text/x-python",
   "name": "python",
   "nbconvert_exporter": "python",
   "pygments_lexer": "ipython3",
   "version": "3.9.12"
  }
 },
 "nbformat": 4,
 "nbformat_minor": 5
}
